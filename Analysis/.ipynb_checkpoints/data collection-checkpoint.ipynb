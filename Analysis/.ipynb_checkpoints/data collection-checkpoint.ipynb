{
 "cells": [
  {
   "cell_type": "code",
   "execution_count": null,
   "id": "ab7184b4",
   "metadata": {},
   "outputs": [],
   "source": [
    "import numpy as np\n",
    "import pandas as pd\n",
    "import matplotlib.pyplot as plt\n",
    "import seaborn as sns\n",
    "import plotly.express as px\n",
    "import json\n",
    "from time import sleep"
   ]
  },
  {
   "cell_type": "code",
   "execution_count": null,
   "id": "06661e4a",
   "metadata": {},
   "outputs": [],
   "source": [
    "from urllib.request import urlopen"
   ]
  },
  {
   "cell_type": "code",
   "execution_count": null,
   "id": "d3cd37df",
   "metadata": {},
   "outputs": [],
   "source": [
    "df = pd.read_csv(\"leetcode_indian_userrating.csv\")"
   ]
  },
  {
   "cell_type": "code",
   "execution_count": null,
   "id": "fcfb02c5",
   "metadata": {},
   "outputs": [],
   "source": [
    "df.head()"
   ]
  },
  {
   "cell_type": "code",
   "execution_count": null,
   "id": "12b5193d",
   "metadata": {},
   "outputs": [],
   "source": [
    "df.shape"
   ]
  },
  {
   "cell_type": "code",
   "execution_count": null,
   "id": "ec213922",
   "metadata": {},
   "outputs": [],
   "source": [
    "df.drop(df.columns[[0,1,2,5]], axis=1, inplace=True)\n",
    "df.head()"
   ]
  },
  {
   "cell_type": "code",
   "execution_count": null,
   "id": "4469b43a",
   "metadata": {},
   "outputs": [],
   "source": [
    "df.shape"
   ]
  },
  {
   "cell_type": "code",
   "execution_count": null,
   "id": "9edd535b",
   "metadata": {},
   "outputs": [],
   "source": [
    "names = df['username']\n",
    "len(names.unique())\n",
    "names"
   ]
  },
  {
   "cell_type": "code",
   "execution_count": null,
   "id": "99d5ff7c",
   "metadata": {},
   "outputs": [
    {
     "name": "stdout",
     "output_type": "stream",
     "text": [
      "aryanc403\n",
      "https://leetcode-stats-api.herokuapp.com/aryanc403\n",
      "0\n",
      "ap1008\n",
      "https://leetcode-stats-api.herokuapp.com/ap1008\n",
      "549\n",
      "LosingNowLosingLate\n",
      "https://leetcode-stats-api.herokuapp.com/LosingNowLosingLate\n",
      "574\n",
      "taran_1407\n",
      "https://leetcode-stats-api.herokuapp.com/taran_1407\n",
      "881\n",
      "anil9717\n",
      "https://leetcode-stats-api.herokuapp.com/anil9717\n",
      "429\n",
      "razimantv\n",
      "https://leetcode-stats-api.herokuapp.com/razimantv\n",
      "1096\n",
      "mafailure\n",
      "https://leetcode-stats-api.herokuapp.com/mafailure\n",
      "653\n",
      "srikkanthr\n",
      "https://leetcode-stats-api.herokuapp.com/srikkanthr\n",
      "1084\n",
      "Ajit123\n",
      "https://leetcode-stats-api.herokuapp.com/Ajit123\n",
      "842\n",
      "r_d_\n",
      "https://leetcode-stats-api.herokuapp.com/r_d_\n",
      "283\n",
      "satviksr\n",
      "https://leetcode-stats-api.herokuapp.com/satviksr\n",
      "1389\n",
      "amit_kr31\n",
      "https://leetcode-stats-api.herokuapp.com/amit_kr31\n",
      "0\n",
      "crazymerlyn\n",
      "https://leetcode-stats-api.herokuapp.com/crazymerlyn\n",
      "1063\n",
      "tanmay_raj_29\n",
      "https://leetcode-stats-api.herokuapp.com/tanmay_raj_29\n",
      "755\n",
      "astroash\n",
      "https://leetcode-stats-api.herokuapp.com/astroash\n",
      "1427\n",
      "yatin_kwatra\n",
      "https://leetcode-stats-api.herokuapp.com/yatin_kwatra\n",
      "880\n",
      "zanj0\n",
      "https://leetcode-stats-api.herokuapp.com/zanj0\n",
      "2346\n",
      "nagabhushan\n",
      "https://leetcode-stats-api.herokuapp.com/nagabhushan\n",
      "643\n",
      "cheatcode\n",
      "https://leetcode-stats-api.herokuapp.com/cheatcode\n",
      "866\n",
      "jika_jik\n",
      "https://leetcode-stats-api.herokuapp.com/jika_jik\n",
      "445\n",
      "izaj_iitkgp\n",
      "https://leetcode-stats-api.herokuapp.com/izaj_iitkgp\n",
      "811\n",
      "neeraj745\n",
      "https://leetcode-stats-api.herokuapp.com/neeraj745\n",
      "292\n",
      "ajinkya1p3\n",
      "https://leetcode-stats-api.herokuapp.com/ajinkya1p3\n",
      "212\n",
      "roll_no_1\n",
      "https://leetcode-stats-api.herokuapp.com/roll_no_1\n",
      "660\n",
      "_merlin_\n",
      "https://leetcode-stats-api.herokuapp.com/_merlin_\n"
     ]
    }
   ],
   "source": [
    "totalSolved = []\n",
    "# easySolved = []\n",
    "# mediumSolved = []\n",
    "# hardSolved = []\n",
    "# acceptanceRate = []\n",
    "# ranking = []\n",
    "# contributionPoints = []\n",
    "# reputation = []\n",
    "for name in names:\n",
    "    print(name)\n",
    "    url = \"https://leetcode-stats-api.herokuapp.com/\"+name\n",
    "    print(url)\n",
    "    page = urlopen(url)\n",
    "    sleep(3)\n",
    "    html_bytes = page.read()\n",
    "    html = html_bytes.decode('utf-8')\n",
    "    data = json.loads(html)\n",
    "    print(data['totalSolved'])\n",
    "    totalSolved.append(data['totalSolved'])\n",
    "#     easySolved.append(data['easySolved'])\n",
    "#     mediumSolved.append(data['mediumSolved'])\n",
    "#     hardSolved.append(data['hardSolved'])\n",
    "#     acceptanceRate.append(data['acceptanceRate'])\n",
    "#     ranking.append(data['ranking'])\n",
    "#     contributionPoints.append(data['contributionPoints'])\n",
    "#     reputation.append(data['reputation'])\n",
    "    \n",
    "df['totalSolved'] = totalSolved\n",
    "# df['easySolved'] = easySolved\n",
    "# df['mediumSolved'] = mediumSolved\n",
    "# df['hardSolved'] = hardSolved\n",
    "# df['acceptanceRate'] = acceptanceRate\n",
    "# df['ranking'] = ranking\n",
    "# df['contributionPoints'] = contributionPoints\n",
    "# df['reputation'] = reputation"
   ]
  },
  {
   "cell_type": "code",
   "execution_count": null,
   "id": "4bc25fe6",
   "metadata": {},
   "outputs": [],
   "source": [
    "df.head()"
   ]
  },
  {
   "cell_type": "code",
   "execution_count": null,
   "id": "25da0ff2",
   "metadata": {},
   "outputs": [],
   "source": []
  },
  {
   "cell_type": "code",
   "execution_count": null,
   "id": "b9c24270",
   "metadata": {},
   "outputs": [],
   "source": []
  },
  {
   "cell_type": "code",
   "execution_count": null,
   "id": "3ff15747",
   "metadata": {},
   "outputs": [],
   "source": [
    "url = \"https://leetcode-stats-api.herokuapp.com/k_rohit20\"\n",
    "print(url)"
   ]
  },
  {
   "cell_type": "code",
   "execution_count": null,
   "id": "2bf3c690",
   "metadata": {},
   "outputs": [],
   "source": [
    "page = urlopen(url)"
   ]
  },
  {
   "cell_type": "code",
   "execution_count": null,
   "id": "72a2eabe",
   "metadata": {},
   "outputs": [],
   "source": [
    "html_bytes = page.read()\n",
    "html = html_bytes.decode('utf-8')"
   ]
  },
  {
   "cell_type": "code",
   "execution_count": null,
   "id": "5c9c23d4",
   "metadata": {},
   "outputs": [],
   "source": [
    "import json\n",
    "data = json.loads(html)"
   ]
  },
  {
   "cell_type": "code",
   "execution_count": null,
   "id": "8ffdc316",
   "metadata": {},
   "outputs": [],
   "source": [
    "data"
   ]
  },
  {
   "cell_type": "code",
   "execution_count": null,
   "id": "07d225ab",
   "metadata": {},
   "outputs": [],
   "source": [
    "sheets = ['Sheet1']\n",
    "finalfile = 'test to check.xlsx'\n",
    "writer = pd.ExcelWriter(finalfile)\n",
    "for sheet in sheets:\n",
    "    df.to_excel(writer,sheet)\n",
    "writer.save()"
   ]
  },
  {
   "cell_type": "code",
   "execution_count": null,
   "id": "e6310938",
   "metadata": {},
   "outputs": [],
   "source": []
  }
 ],
 "metadata": {
  "kernelspec": {
   "display_name": "Python 3 (ipykernel)",
   "language": "python",
   "name": "python3"
  },
  "language_info": {
   "codemirror_mode": {
    "name": "ipython",
    "version": 3
   },
   "file_extension": ".py",
   "mimetype": "text/x-python",
   "name": "python",
   "nbconvert_exporter": "python",
   "pygments_lexer": "ipython3",
   "version": "3.10.2"
  }
 },
 "nbformat": 4,
 "nbformat_minor": 5
}

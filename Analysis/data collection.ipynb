{
 "cells": [
  {
   "cell_type": "code",
   "execution_count": 1,
   "id": "0f378c01",
   "metadata": {},
   "outputs": [],
   "source": [
    "import numpy as np\n",
    "import pandas as pd\n",
    "import matplotlib.pyplot as plt\n",
    "import seaborn as sns\n",
    "import plotly.express as px\n",
    "import json\n",
    "from time import sleep"
   ]
  },
  {
   "cell_type": "code",
   "execution_count": 2,
   "id": "e3f4883c",
   "metadata": {},
   "outputs": [],
   "source": [
    "from urllib.request import urlopen"
   ]
  },
  {
   "cell_type": "code",
   "execution_count": 3,
   "id": "e9de5e17",
   "metadata": {},
   "outputs": [],
   "source": [
    "df = pd.read_csv(\"leetcode_indian_userrating.csv\")"
   ]
  },
  {
   "cell_type": "code",
   "execution_count": 4,
   "id": "2657ccd3",
   "metadata": {},
   "outputs": [
    {
     "data": {
      "text/html": [
       "<div>\n",
       "<style scoped>\n",
       "    .dataframe tbody tr th:only-of-type {\n",
       "        vertical-align: middle;\n",
       "    }\n",
       "\n",
       "    .dataframe tbody tr th {\n",
       "        vertical-align: top;\n",
       "    }\n",
       "\n",
       "    .dataframe thead th {\n",
       "        text-align: right;\n",
       "    }\n",
       "</style>\n",
       "<table border=\"1\" class=\"dataframe\">\n",
       "  <thead>\n",
       "    <tr style=\"text-align: right;\">\n",
       "      <th></th>\n",
       "      <th>rating</th>\n",
       "      <th>username</th>\n",
       "    </tr>\n",
       "  </thead>\n",
       "  <tbody>\n",
       "    <tr>\n",
       "      <th>0</th>\n",
       "      <td>2841.96</td>\n",
       "      <td>aryanc403</td>\n",
       "    </tr>\n",
       "    <tr>\n",
       "      <th>1</th>\n",
       "      <td>2707.79</td>\n",
       "      <td>ap1008</td>\n",
       "    </tr>\n",
       "    <tr>\n",
       "      <th>2</th>\n",
       "      <td>2701.02</td>\n",
       "      <td>LosingNowLosingLate</td>\n",
       "    </tr>\n",
       "    <tr>\n",
       "      <th>3</th>\n",
       "      <td>2676.75</td>\n",
       "      <td>taran_1407</td>\n",
       "    </tr>\n",
       "    <tr>\n",
       "      <th>4</th>\n",
       "      <td>2667.42</td>\n",
       "      <td>anil9717</td>\n",
       "    </tr>\n",
       "  </tbody>\n",
       "</table>\n",
       "</div>"
      ],
      "text/plain": [
       "    rating             username\n",
       "0  2841.96            aryanc403\n",
       "1  2707.79               ap1008\n",
       "2  2701.02  LosingNowLosingLate\n",
       "3  2676.75           taran_1407\n",
       "4  2667.42             anil9717"
      ]
     },
     "execution_count": 4,
     "metadata": {},
     "output_type": "execute_result"
    }
   ],
   "source": [
    "df.head()"
   ]
  },
  {
   "cell_type": "code",
   "execution_count": 5,
   "id": "5793abdd",
   "metadata": {},
   "outputs": [
    {
     "data": {
      "text/plain": [
       "(16743, 2)"
      ]
     },
     "execution_count": 5,
     "metadata": {},
     "output_type": "execute_result"
    }
   ],
   "source": [
    "df.shape"
   ]
  },
  {
   "cell_type": "code",
   "execution_count": 15,
   "id": "70214d1e",
   "metadata": {},
   "outputs": [
    {
     "data": {
      "text/html": [
       "<div>\n",
       "<style scoped>\n",
       "    .dataframe tbody tr th:only-of-type {\n",
       "        vertical-align: middle;\n",
       "    }\n",
       "\n",
       "    .dataframe tbody tr th {\n",
       "        vertical-align: top;\n",
       "    }\n",
       "\n",
       "    .dataframe thead th {\n",
       "        text-align: right;\n",
       "    }\n",
       "</style>\n",
       "<table border=\"1\" class=\"dataframe\">\n",
       "  <thead>\n",
       "    <tr style=\"text-align: right;\">\n",
       "      <th></th>\n",
       "      <th>rating</th>\n",
       "      <th>username</th>\n",
       "    </tr>\n",
       "  </thead>\n",
       "  <tbody>\n",
       "    <tr>\n",
       "      <th>0</th>\n",
       "      <td>2841.96</td>\n",
       "      <td>aryanc403</td>\n",
       "    </tr>\n",
       "    <tr>\n",
       "      <th>1</th>\n",
       "      <td>2707.79</td>\n",
       "      <td>ap1008</td>\n",
       "    </tr>\n",
       "    <tr>\n",
       "      <th>2</th>\n",
       "      <td>2701.02</td>\n",
       "      <td>LosingNowLosingLate</td>\n",
       "    </tr>\n",
       "    <tr>\n",
       "      <th>3</th>\n",
       "      <td>2676.75</td>\n",
       "      <td>taran_1407</td>\n",
       "    </tr>\n",
       "    <tr>\n",
       "      <th>4</th>\n",
       "      <td>2667.42</td>\n",
       "      <td>anil9717</td>\n",
       "    </tr>\n",
       "  </tbody>\n",
       "</table>\n",
       "</div>"
      ],
      "text/plain": [
       "    rating             username\n",
       "0  2841.96            aryanc403\n",
       "1  2707.79               ap1008\n",
       "2  2701.02  LosingNowLosingLate\n",
       "3  2676.75           taran_1407\n",
       "4  2667.42             anil9717"
      ]
     },
     "execution_count": 15,
     "metadata": {},
     "output_type": "execute_result"
    }
   ],
   "source": [
    "df.drop(df.columns[[0,1,2,5]], axis=1, inplace=True)\n",
    "df.head()"
   ]
  },
  {
   "cell_type": "code",
   "execution_count": 16,
   "id": "c8f6cb2f",
   "metadata": {},
   "outputs": [
    {
     "data": {
      "text/plain": [
       "(16743, 2)"
      ]
     },
     "execution_count": 16,
     "metadata": {},
     "output_type": "execute_result"
    }
   ],
   "source": [
    "df.shape"
   ]
  },
  {
   "cell_type": "code",
   "execution_count": 6,
   "id": "2437897a",
   "metadata": {},
   "outputs": [
    {
     "data": {
      "text/plain": [
       "0                  aryanc403\n",
       "1                     ap1008\n",
       "2        LosingNowLosingLate\n",
       "3                 taran_1407\n",
       "4                   anil9717\n",
       "                ...         \n",
       "16738           koushikj9823\n",
       "16739       puneetchhabra741\n",
       "16740                 warret\n",
       "16741           shahtanmay13\n",
       "16742          aakashdev1712\n",
       "Name: username, Length: 16743, dtype: object"
      ]
     },
     "execution_count": 6,
     "metadata": {},
     "output_type": "execute_result"
    }
   ],
   "source": [
    "names = df['username']\n",
    "len(names.unique())\n",
    "names"
   ]
  },
  {
   "cell_type": "code",
   "execution_count": 7,
   "id": "821738f8",
   "metadata": {},
   "outputs": [],
   "source": [
    "totalSolved = []\n",
    "easySolved = []\n",
    "mediumSolved = []\n",
    "hardSolved = []\n",
    "acceptanceRate = []\n",
    "ranking = []\n",
    "contributionPoints = []\n",
    "reputation = []"
   ]
  },
  {
   "cell_type": "code",
   "execution_count": 8,
   "id": "d7276d9c",
   "metadata": {},
   "outputs": [],
   "source": [
    "i=0"
   ]
  },
  {
   "cell_type": "code",
   "execution_count": 9,
   "id": "58f9ba2c",
   "metadata": {},
   "outputs": [],
   "source": [
    "j=i"
   ]
  },
  {
   "cell_type": "code",
   "execution_count": 10,
   "id": "a6852591",
   "metadata": {},
   "outputs": [
    {
     "name": "stdout",
     "output_type": "stream",
     "text": [
      "aryanc403\n",
      "https://leetcode-stats-api.herokuapp.com/aryanc403\n",
      "0\n",
      "ap1008\n",
      "https://leetcode-stats-api.herokuapp.com/ap1008\n",
      "549\n",
      "LosingNowLosingLate\n",
      "https://leetcode-stats-api.herokuapp.com/LosingNowLosingLate\n",
      "574\n",
      "taran_1407\n",
      "https://leetcode-stats-api.herokuapp.com/taran_1407\n",
      "881\n",
      "anil9717\n",
      "https://leetcode-stats-api.herokuapp.com/anil9717\n",
      "429\n",
      "razimantv\n",
      "https://leetcode-stats-api.herokuapp.com/razimantv\n",
      "1100\n",
      "mafailure\n",
      "https://leetcode-stats-api.herokuapp.com/mafailure\n"
     ]
    },
    {
     "ename": "KeyboardInterrupt",
     "evalue": "",
     "output_type": "error",
     "traceback": [
      "\u001b[1;31m---------------------------------------------------------------------------\u001b[0m",
      "\u001b[1;31mKeyboardInterrupt\u001b[0m                         Traceback (most recent call last)",
      "Cell \u001b[1;32mIn[10], line 6\u001b[0m\n\u001b[0;32m      4\u001b[0m \u001b[38;5;28mprint\u001b[39m(url)\n\u001b[0;32m      5\u001b[0m page \u001b[38;5;241m=\u001b[39m urlopen(url)\n\u001b[1;32m----> 6\u001b[0m \u001b[43msleep\u001b[49m\u001b[43m(\u001b[49m\u001b[38;5;241;43m1\u001b[39;49m\u001b[43m)\u001b[49m\n\u001b[0;32m      7\u001b[0m i\u001b[38;5;241m=\u001b[39mi\u001b[38;5;241m+\u001b[39m\u001b[38;5;241m1\u001b[39m\n\u001b[0;32m      8\u001b[0m html_bytes \u001b[38;5;241m=\u001b[39m page\u001b[38;5;241m.\u001b[39mread()\n",
      "\u001b[1;31mKeyboardInterrupt\u001b[0m: "
     ]
    }
   ],
   "source": [
    "for name in names[j:j+100]:\n",
    "    print(name)\n",
    "    url = \"https://leetcode-stats-api.herokuapp.com/\"+name\n",
    "    print(url)\n",
    "    page = urlopen(url)\n",
    "    sleep(1)\n",
    "    i=i+1\n",
    "    html_bytes = page.read()\n",
    "    html = html_bytes.decode('utf-8')\n",
    "    data = json.loads(html)\n",
    "    print(data['totalSolved'])\n",
    "    totalSolved.append(data['totalSolved'])\n",
    "    easySolved.append(data['easySolved'])\n",
    "    mediumSolved.append(data['mediumSolved'])\n",
    "    hardSolved.append(data['hardSolved'])\n",
    "    acceptanceRate.append(data['acceptanceRate'])\n",
    "    ranking.append(data['ranking'])\n",
    "    contributionPoints.append(data['contributionPoints'])\n",
    "    reputation.append(data['reputation'])"
   ]
  },
  {
   "cell_type": "code",
   "execution_count": 180,
   "id": "76c3188f",
   "metadata": {},
   "outputs": [
    {
     "data": {
      "text/plain": [
       "1491"
      ]
     },
     "execution_count": 180,
     "metadata": {},
     "output_type": "execute_result"
    }
   ],
   "source": [
    "len(totalSolved)"
   ]
  },
  {
   "cell_type": "code",
   "execution_count": 212,
   "id": "2867910f",
   "metadata": {},
   "outputs": [
    {
     "data": {
      "text/html": [
       "<div>\n",
       "<style scoped>\n",
       "    .dataframe tbody tr th:only-of-type {\n",
       "        vertical-align: middle;\n",
       "    }\n",
       "\n",
       "    .dataframe tbody tr th {\n",
       "        vertical-align: top;\n",
       "    }\n",
       "\n",
       "    .dataframe thead th {\n",
       "        text-align: right;\n",
       "    }\n",
       "</style>\n",
       "<table border=\"1\" class=\"dataframe\">\n",
       "  <thead>\n",
       "    <tr style=\"text-align: right;\">\n",
       "      <th></th>\n",
       "      <th>Unnamed: 0</th>\n",
       "      <th>rating</th>\n",
       "      <th>username</th>\n",
       "    </tr>\n",
       "  </thead>\n",
       "  <tbody>\n",
       "    <tr>\n",
       "      <th>0</th>\n",
       "      <td>0</td>\n",
       "      <td>2841.96</td>\n",
       "      <td>aryanc403</td>\n",
       "    </tr>\n",
       "    <tr>\n",
       "      <th>1</th>\n",
       "      <td>1</td>\n",
       "      <td>2707.79</td>\n",
       "      <td>ap1008</td>\n",
       "    </tr>\n",
       "    <tr>\n",
       "      <th>2</th>\n",
       "      <td>2</td>\n",
       "      <td>2701.02</td>\n",
       "      <td>LosingNowLosingLate</td>\n",
       "    </tr>\n",
       "    <tr>\n",
       "      <th>3</th>\n",
       "      <td>3</td>\n",
       "      <td>2676.75</td>\n",
       "      <td>taran_1407</td>\n",
       "    </tr>\n",
       "    <tr>\n",
       "      <th>4</th>\n",
       "      <td>4</td>\n",
       "      <td>2667.42</td>\n",
       "      <td>anil9717</td>\n",
       "    </tr>\n",
       "  </tbody>\n",
       "</table>\n",
       "</div>"
      ],
      "text/plain": [
       "   Unnamed: 0   rating             username\n",
       "0           0  2841.96            aryanc403\n",
       "1           1  2707.79               ap1008\n",
       "2           2  2701.02  LosingNowLosingLate\n",
       "3           3  2676.75           taran_1407\n",
       "4           4  2667.42             anil9717"
      ]
     },
     "execution_count": 212,
     "metadata": {},
     "output_type": "execute_result"
    }
   ],
   "source": [
    "datafr = pd.read_excel(\"test to check.xlsx\",engine=\"openpyxl\")\n",
    "datafr.head()"
   ]
  },
  {
   "cell_type": "code",
   "execution_count": 213,
   "id": "e5553280",
   "metadata": {},
   "outputs": [
    {
     "data": {
      "text/plain": [
       "(1491, 3)"
      ]
     },
     "execution_count": 213,
     "metadata": {},
     "output_type": "execute_result"
    }
   ],
   "source": [
    "datafr.shape"
   ]
  },
  {
   "cell_type": "code",
   "execution_count": 211,
   "id": "9457d80e",
   "metadata": {},
   "outputs": [
    {
     "data": {
      "text/html": [
       "<div>\n",
       "<style scoped>\n",
       "    .dataframe tbody tr th:only-of-type {\n",
       "        vertical-align: middle;\n",
       "    }\n",
       "\n",
       "    .dataframe tbody tr th {\n",
       "        vertical-align: top;\n",
       "    }\n",
       "\n",
       "    .dataframe thead th {\n",
       "        text-align: right;\n",
       "    }\n",
       "</style>\n",
       "<table border=\"1\" class=\"dataframe\">\n",
       "  <thead>\n",
       "    <tr style=\"text-align: right;\">\n",
       "      <th></th>\n",
       "      <th>username</th>\n",
       "    </tr>\n",
       "  </thead>\n",
       "  <tbody>\n",
       "    <tr>\n",
       "      <th>0</th>\n",
       "      <td>aryanc403</td>\n",
       "    </tr>\n",
       "    <tr>\n",
       "      <th>1</th>\n",
       "      <td>ap1008</td>\n",
       "    </tr>\n",
       "    <tr>\n",
       "      <th>2</th>\n",
       "      <td>LosingNowLosingLate</td>\n",
       "    </tr>\n",
       "    <tr>\n",
       "      <th>3</th>\n",
       "      <td>taran_1407</td>\n",
       "    </tr>\n",
       "    <tr>\n",
       "      <th>4</th>\n",
       "      <td>anil9717</td>\n",
       "    </tr>\n",
       "  </tbody>\n",
       "</table>\n",
       "</div>"
      ],
      "text/plain": [
       "              username\n",
       "0            aryanc403\n",
       "1               ap1008\n",
       "2  LosingNowLosingLate\n",
       "3           taran_1407\n",
       "4             anil9717"
      ]
     },
     "execution_count": 211,
     "metadata": {},
     "output_type": "execute_result"
    }
   ],
   "source": []
  },
  {
   "cell_type": "code",
   "execution_count": 214,
   "id": "b8e29960",
   "metadata": {},
   "outputs": [],
   "source": [
    "datafr['totalSolved'] = totalSolved\n",
    "datafr['easySolved'] = easySolved\n",
    "datafr['mediumSolved'] = mediumSolved\n",
    "datafr['hardSolved'] = hardSolved\n",
    "datafr['acceptanceRate'] = acceptanceRate\n",
    "datafr['ranking'] = ranking\n",
    "datafr['contributionPoints'] = contributionPoints\n",
    "datafr['reputation'] = reputation"
   ]
  },
  {
   "cell_type": "code",
   "execution_count": 215,
   "id": "b5edee0d",
   "metadata": {},
   "outputs": [
    {
     "data": {
      "text/html": [
       "<div>\n",
       "<style scoped>\n",
       "    .dataframe tbody tr th:only-of-type {\n",
       "        vertical-align: middle;\n",
       "    }\n",
       "\n",
       "    .dataframe tbody tr th {\n",
       "        vertical-align: top;\n",
       "    }\n",
       "\n",
       "    .dataframe thead th {\n",
       "        text-align: right;\n",
       "    }\n",
       "</style>\n",
       "<table border=\"1\" class=\"dataframe\">\n",
       "  <thead>\n",
       "    <tr style=\"text-align: right;\">\n",
       "      <th></th>\n",
       "      <th>Unnamed: 0</th>\n",
       "      <th>rating</th>\n",
       "      <th>username</th>\n",
       "      <th>totalSolved</th>\n",
       "      <th>easySolved</th>\n",
       "      <th>mediumSolved</th>\n",
       "      <th>hardSolved</th>\n",
       "      <th>acceptanceRate</th>\n",
       "      <th>ranking</th>\n",
       "      <th>contributionPoints</th>\n",
       "      <th>reputation</th>\n",
       "    </tr>\n",
       "  </thead>\n",
       "  <tbody>\n",
       "    <tr>\n",
       "      <th>0</th>\n",
       "      <td>0</td>\n",
       "      <td>2841.96</td>\n",
       "      <td>aryanc403</td>\n",
       "      <td>0</td>\n",
       "      <td>0</td>\n",
       "      <td>0</td>\n",
       "      <td>0</td>\n",
       "      <td>0.00</td>\n",
       "      <td>3158957</td>\n",
       "      <td>17</td>\n",
       "      <td>0</td>\n",
       "    </tr>\n",
       "    <tr>\n",
       "      <th>1</th>\n",
       "      <td>1</td>\n",
       "      <td>2707.79</td>\n",
       "      <td>ap1008</td>\n",
       "      <td>549</td>\n",
       "      <td>198</td>\n",
       "      <td>277</td>\n",
       "      <td>74</td>\n",
       "      <td>58.24</td>\n",
       "      <td>47771</td>\n",
       "      <td>1458</td>\n",
       "      <td>0</td>\n",
       "    </tr>\n",
       "    <tr>\n",
       "      <th>2</th>\n",
       "      <td>2</td>\n",
       "      <td>2701.02</td>\n",
       "      <td>LosingNowLosingLate</td>\n",
       "      <td>574</td>\n",
       "      <td>120</td>\n",
       "      <td>400</td>\n",
       "      <td>54</td>\n",
       "      <td>68.44</td>\n",
       "      <td>42358</td>\n",
       "      <td>2758</td>\n",
       "      <td>0</td>\n",
       "    </tr>\n",
       "    <tr>\n",
       "      <th>3</th>\n",
       "      <td>3</td>\n",
       "      <td>2676.75</td>\n",
       "      <td>taran_1407</td>\n",
       "      <td>881</td>\n",
       "      <td>201</td>\n",
       "      <td>500</td>\n",
       "      <td>180</td>\n",
       "      <td>66.37</td>\n",
       "      <td>10428</td>\n",
       "      <td>37797</td>\n",
       "      <td>10</td>\n",
       "    </tr>\n",
       "    <tr>\n",
       "      <th>4</th>\n",
       "      <td>4</td>\n",
       "      <td>2667.42</td>\n",
       "      <td>anil9717</td>\n",
       "      <td>429</td>\n",
       "      <td>133</td>\n",
       "      <td>210</td>\n",
       "      <td>86</td>\n",
       "      <td>69.90</td>\n",
       "      <td>85976</td>\n",
       "      <td>7747</td>\n",
       "      <td>2</td>\n",
       "    </tr>\n",
       "  </tbody>\n",
       "</table>\n",
       "</div>"
      ],
      "text/plain": [
       "   Unnamed: 0   rating             username  totalSolved  easySolved  \\\n",
       "0           0  2841.96            aryanc403            0           0   \n",
       "1           1  2707.79               ap1008          549         198   \n",
       "2           2  2701.02  LosingNowLosingLate          574         120   \n",
       "3           3  2676.75           taran_1407          881         201   \n",
       "4           4  2667.42             anil9717          429         133   \n",
       "\n",
       "   mediumSolved  hardSolved  acceptanceRate  ranking  contributionPoints  \\\n",
       "0             0           0            0.00  3158957                  17   \n",
       "1           277          74           58.24    47771                1458   \n",
       "2           400          54           68.44    42358                2758   \n",
       "3           500         180           66.37    10428               37797   \n",
       "4           210          86           69.90    85976                7747   \n",
       "\n",
       "   reputation  \n",
       "0           0  \n",
       "1           0  \n",
       "2           0  \n",
       "3          10  \n",
       "4           2  "
      ]
     },
     "execution_count": 215,
     "metadata": {},
     "output_type": "execute_result"
    }
   ],
   "source": [
    "datafr.head()"
   ]
  },
  {
   "cell_type": "code",
   "execution_count": 220,
   "id": "b4e995dd",
   "metadata": {},
   "outputs": [
    {
     "data": {
      "text/html": [
       "<div>\n",
       "<style scoped>\n",
       "    .dataframe tbody tr th:only-of-type {\n",
       "        vertical-align: middle;\n",
       "    }\n",
       "\n",
       "    .dataframe tbody tr th {\n",
       "        vertical-align: top;\n",
       "    }\n",
       "\n",
       "    .dataframe thead th {\n",
       "        text-align: right;\n",
       "    }\n",
       "</style>\n",
       "<table border=\"1\" class=\"dataframe\">\n",
       "  <thead>\n",
       "    <tr style=\"text-align: right;\">\n",
       "      <th></th>\n",
       "      <th>rating</th>\n",
       "      <th>username</th>\n",
       "      <th>totalSolved</th>\n",
       "      <th>easySolved</th>\n",
       "      <th>mediumSolved</th>\n",
       "      <th>hardSolved</th>\n",
       "      <th>acceptanceRate</th>\n",
       "      <th>ranking</th>\n",
       "      <th>contributionPoints</th>\n",
       "      <th>reputation</th>\n",
       "    </tr>\n",
       "  </thead>\n",
       "  <tbody>\n",
       "    <tr>\n",
       "      <th>0</th>\n",
       "      <td>2841.96</td>\n",
       "      <td>aryanc403</td>\n",
       "      <td>0</td>\n",
       "      <td>0</td>\n",
       "      <td>0</td>\n",
       "      <td>0</td>\n",
       "      <td>0.00</td>\n",
       "      <td>3158957</td>\n",
       "      <td>17</td>\n",
       "      <td>0</td>\n",
       "    </tr>\n",
       "    <tr>\n",
       "      <th>1</th>\n",
       "      <td>2707.79</td>\n",
       "      <td>ap1008</td>\n",
       "      <td>549</td>\n",
       "      <td>198</td>\n",
       "      <td>277</td>\n",
       "      <td>74</td>\n",
       "      <td>58.24</td>\n",
       "      <td>47771</td>\n",
       "      <td>1458</td>\n",
       "      <td>0</td>\n",
       "    </tr>\n",
       "    <tr>\n",
       "      <th>2</th>\n",
       "      <td>2701.02</td>\n",
       "      <td>LosingNowLosingLate</td>\n",
       "      <td>574</td>\n",
       "      <td>120</td>\n",
       "      <td>400</td>\n",
       "      <td>54</td>\n",
       "      <td>68.44</td>\n",
       "      <td>42358</td>\n",
       "      <td>2758</td>\n",
       "      <td>0</td>\n",
       "    </tr>\n",
       "    <tr>\n",
       "      <th>3</th>\n",
       "      <td>2676.75</td>\n",
       "      <td>taran_1407</td>\n",
       "      <td>881</td>\n",
       "      <td>201</td>\n",
       "      <td>500</td>\n",
       "      <td>180</td>\n",
       "      <td>66.37</td>\n",
       "      <td>10428</td>\n",
       "      <td>37797</td>\n",
       "      <td>10</td>\n",
       "    </tr>\n",
       "    <tr>\n",
       "      <th>4</th>\n",
       "      <td>2667.42</td>\n",
       "      <td>anil9717</td>\n",
       "      <td>429</td>\n",
       "      <td>133</td>\n",
       "      <td>210</td>\n",
       "      <td>86</td>\n",
       "      <td>69.90</td>\n",
       "      <td>85976</td>\n",
       "      <td>7747</td>\n",
       "      <td>2</td>\n",
       "    </tr>\n",
       "  </tbody>\n",
       "</table>\n",
       "</div>"
      ],
      "text/plain": [
       "    rating             username  totalSolved  easySolved  mediumSolved  \\\n",
       "0  2841.96            aryanc403            0           0             0   \n",
       "1  2707.79               ap1008          549         198           277   \n",
       "2  2701.02  LosingNowLosingLate          574         120           400   \n",
       "3  2676.75           taran_1407          881         201           500   \n",
       "4  2667.42             anil9717          429         133           210   \n",
       "\n",
       "   hardSolved  acceptanceRate  ranking  contributionPoints  reputation  \n",
       "0           0            0.00  3158957                  17           0  \n",
       "1          74           58.24    47771                1458           0  \n",
       "2          54           68.44    42358                2758           0  \n",
       "3         180           66.37    10428               37797          10  \n",
       "4          86           69.90    85976                7747           2  "
      ]
     },
     "execution_count": 220,
     "metadata": {},
     "output_type": "execute_result"
    }
   ],
   "source": [
    "datafr.drop(datafr.columns[[0]], axis=1, inplace=True)\n",
    "datafr.head()"
   ]
  },
  {
   "cell_type": "code",
   "execution_count": null,
   "id": "a7d670a8",
   "metadata": {},
   "outputs": [],
   "source": []
  },
  {
   "cell_type": "code",
   "execution_count": 204,
   "id": "5b04a31d",
   "metadata": {},
   "outputs": [
    {
     "name": "stdout",
     "output_type": "stream",
     "text": [
      "https://leetcode-stats-api.herokuapp.com/saumya22nov\n"
     ]
    }
   ],
   "source": [
    "url = \"https://leetcode-stats-api.herokuapp.com/saumya22nov\"\n",
    "print(url)"
   ]
  },
  {
   "cell_type": "code",
   "execution_count": 205,
   "id": "f3fca15b",
   "metadata": {},
   "outputs": [
    {
     "ename": "HTTPError",
     "evalue": "HTTP Error 503: Service Unavailable",
     "output_type": "error",
     "traceback": [
      "\u001b[1;31m---------------------------------------------------------------------------\u001b[0m",
      "\u001b[1;31mHTTPError\u001b[0m                                 Traceback (most recent call last)",
      "Cell \u001b[1;32mIn[205], line 1\u001b[0m\n\u001b[1;32m----> 1\u001b[0m page \u001b[38;5;241m=\u001b[39m \u001b[43murlopen\u001b[49m\u001b[43m(\u001b[49m\u001b[43murl\u001b[49m\u001b[43m)\u001b[49m\n",
      "File \u001b[1;32mC:\\python310\\lib\\urllib\\request.py:216\u001b[0m, in \u001b[0;36murlopen\u001b[1;34m(url, data, timeout, cafile, capath, cadefault, context)\u001b[0m\n\u001b[0;32m    214\u001b[0m \u001b[38;5;28;01melse\u001b[39;00m:\n\u001b[0;32m    215\u001b[0m     opener \u001b[38;5;241m=\u001b[39m _opener\n\u001b[1;32m--> 216\u001b[0m \u001b[38;5;28;01mreturn\u001b[39;00m \u001b[43mopener\u001b[49m\u001b[38;5;241;43m.\u001b[39;49m\u001b[43mopen\u001b[49m\u001b[43m(\u001b[49m\u001b[43murl\u001b[49m\u001b[43m,\u001b[49m\u001b[43m \u001b[49m\u001b[43mdata\u001b[49m\u001b[43m,\u001b[49m\u001b[43m \u001b[49m\u001b[43mtimeout\u001b[49m\u001b[43m)\u001b[49m\n",
      "File \u001b[1;32mC:\\python310\\lib\\urllib\\request.py:525\u001b[0m, in \u001b[0;36mOpenerDirector.open\u001b[1;34m(self, fullurl, data, timeout)\u001b[0m\n\u001b[0;32m    523\u001b[0m \u001b[38;5;28;01mfor\u001b[39;00m processor \u001b[38;5;129;01min\u001b[39;00m \u001b[38;5;28mself\u001b[39m\u001b[38;5;241m.\u001b[39mprocess_response\u001b[38;5;241m.\u001b[39mget(protocol, []):\n\u001b[0;32m    524\u001b[0m     meth \u001b[38;5;241m=\u001b[39m \u001b[38;5;28mgetattr\u001b[39m(processor, meth_name)\n\u001b[1;32m--> 525\u001b[0m     response \u001b[38;5;241m=\u001b[39m \u001b[43mmeth\u001b[49m\u001b[43m(\u001b[49m\u001b[43mreq\u001b[49m\u001b[43m,\u001b[49m\u001b[43m \u001b[49m\u001b[43mresponse\u001b[49m\u001b[43m)\u001b[49m\n\u001b[0;32m    527\u001b[0m \u001b[38;5;28;01mreturn\u001b[39;00m response\n",
      "File \u001b[1;32mC:\\python310\\lib\\urllib\\request.py:634\u001b[0m, in \u001b[0;36mHTTPErrorProcessor.http_response\u001b[1;34m(self, request, response)\u001b[0m\n\u001b[0;32m    631\u001b[0m \u001b[38;5;66;03m# According to RFC 2616, \"2xx\" code indicates that the client's\u001b[39;00m\n\u001b[0;32m    632\u001b[0m \u001b[38;5;66;03m# request was successfully received, understood, and accepted.\u001b[39;00m\n\u001b[0;32m    633\u001b[0m \u001b[38;5;28;01mif\u001b[39;00m \u001b[38;5;129;01mnot\u001b[39;00m (\u001b[38;5;241m200\u001b[39m \u001b[38;5;241m<\u001b[39m\u001b[38;5;241m=\u001b[39m code \u001b[38;5;241m<\u001b[39m \u001b[38;5;241m300\u001b[39m):\n\u001b[1;32m--> 634\u001b[0m     response \u001b[38;5;241m=\u001b[39m \u001b[38;5;28;43mself\u001b[39;49m\u001b[38;5;241;43m.\u001b[39;49m\u001b[43mparent\u001b[49m\u001b[38;5;241;43m.\u001b[39;49m\u001b[43merror\u001b[49m\u001b[43m(\u001b[49m\n\u001b[0;32m    635\u001b[0m \u001b[43m        \u001b[49m\u001b[38;5;124;43m'\u001b[39;49m\u001b[38;5;124;43mhttp\u001b[39;49m\u001b[38;5;124;43m'\u001b[39;49m\u001b[43m,\u001b[49m\u001b[43m \u001b[49m\u001b[43mrequest\u001b[49m\u001b[43m,\u001b[49m\u001b[43m \u001b[49m\u001b[43mresponse\u001b[49m\u001b[43m,\u001b[49m\u001b[43m \u001b[49m\u001b[43mcode\u001b[49m\u001b[43m,\u001b[49m\u001b[43m \u001b[49m\u001b[43mmsg\u001b[49m\u001b[43m,\u001b[49m\u001b[43m \u001b[49m\u001b[43mhdrs\u001b[49m\u001b[43m)\u001b[49m\n\u001b[0;32m    637\u001b[0m \u001b[38;5;28;01mreturn\u001b[39;00m response\n",
      "File \u001b[1;32mC:\\python310\\lib\\urllib\\request.py:563\u001b[0m, in \u001b[0;36mOpenerDirector.error\u001b[1;34m(self, proto, *args)\u001b[0m\n\u001b[0;32m    561\u001b[0m \u001b[38;5;28;01mif\u001b[39;00m http_err:\n\u001b[0;32m    562\u001b[0m     args \u001b[38;5;241m=\u001b[39m (\u001b[38;5;28mdict\u001b[39m, \u001b[38;5;124m'\u001b[39m\u001b[38;5;124mdefault\u001b[39m\u001b[38;5;124m'\u001b[39m, \u001b[38;5;124m'\u001b[39m\u001b[38;5;124mhttp_error_default\u001b[39m\u001b[38;5;124m'\u001b[39m) \u001b[38;5;241m+\u001b[39m orig_args\n\u001b[1;32m--> 563\u001b[0m     \u001b[38;5;28;01mreturn\u001b[39;00m \u001b[38;5;28;43mself\u001b[39;49m\u001b[38;5;241;43m.\u001b[39;49m\u001b[43m_call_chain\u001b[49m\u001b[43m(\u001b[49m\u001b[38;5;241;43m*\u001b[39;49m\u001b[43margs\u001b[49m\u001b[43m)\u001b[49m\n",
      "File \u001b[1;32mC:\\python310\\lib\\urllib\\request.py:496\u001b[0m, in \u001b[0;36mOpenerDirector._call_chain\u001b[1;34m(self, chain, kind, meth_name, *args)\u001b[0m\n\u001b[0;32m    494\u001b[0m \u001b[38;5;28;01mfor\u001b[39;00m handler \u001b[38;5;129;01min\u001b[39;00m handlers:\n\u001b[0;32m    495\u001b[0m     func \u001b[38;5;241m=\u001b[39m \u001b[38;5;28mgetattr\u001b[39m(handler, meth_name)\n\u001b[1;32m--> 496\u001b[0m     result \u001b[38;5;241m=\u001b[39m \u001b[43mfunc\u001b[49m\u001b[43m(\u001b[49m\u001b[38;5;241;43m*\u001b[39;49m\u001b[43margs\u001b[49m\u001b[43m)\u001b[49m\n\u001b[0;32m    497\u001b[0m     \u001b[38;5;28;01mif\u001b[39;00m result \u001b[38;5;129;01mis\u001b[39;00m \u001b[38;5;129;01mnot\u001b[39;00m \u001b[38;5;28;01mNone\u001b[39;00m:\n\u001b[0;32m    498\u001b[0m         \u001b[38;5;28;01mreturn\u001b[39;00m result\n",
      "File \u001b[1;32mC:\\python310\\lib\\urllib\\request.py:643\u001b[0m, in \u001b[0;36mHTTPDefaultErrorHandler.http_error_default\u001b[1;34m(self, req, fp, code, msg, hdrs)\u001b[0m\n\u001b[0;32m    642\u001b[0m \u001b[38;5;28;01mdef\u001b[39;00m \u001b[38;5;21mhttp_error_default\u001b[39m(\u001b[38;5;28mself\u001b[39m, req, fp, code, msg, hdrs):\n\u001b[1;32m--> 643\u001b[0m     \u001b[38;5;28;01mraise\u001b[39;00m HTTPError(req\u001b[38;5;241m.\u001b[39mfull_url, code, msg, hdrs, fp)\n",
      "\u001b[1;31mHTTPError\u001b[0m: HTTP Error 503: Service Unavailable"
     ]
    }
   ],
   "source": [
    "page = urlopen(url)"
   ]
  },
  {
   "cell_type": "code",
   "execution_count": null,
   "id": "c58901df",
   "metadata": {},
   "outputs": [],
   "source": [
    "html_bytes = page.read()\n",
    "html = html_bytes.decode('utf-8')"
   ]
  },
  {
   "cell_type": "code",
   "execution_count": null,
   "id": "150ec86f",
   "metadata": {},
   "outputs": [],
   "source": [
    "import json\n",
    "data = json.loads(html)"
   ]
  },
  {
   "cell_type": "code",
   "execution_count": 112,
   "id": "625efd98",
   "metadata": {},
   "outputs": [
    {
     "data": {
      "text/plain": [
       "{'status': 'success',\n",
       " 'message': 'retrieved',\n",
       " 'totalSolved': 112,\n",
       " 'totalQuestions': 2603,\n",
       " 'easySolved': 64,\n",
       " 'totalEasy': 637,\n",
       " 'mediumSolved': 46,\n",
       " 'totalMedium': 1386,\n",
       " 'hardSolved': 2,\n",
       " 'totalHard': 580,\n",
       " 'acceptanceRate': 52.77,\n",
       " 'ranking': 548894,\n",
       " 'contributionPoints': 426,\n",
       " 'reputation': 1,\n",
       " 'submissionCalendar': {'1664236800': 1,\n",
       "  '1664582400': 1,\n",
       "  '1665446400': 5,\n",
       "  '1670284800': 4,\n",
       "  '1670371200': 2,\n",
       "  '1670457600': 1,\n",
       "  '1670544000': 8,\n",
       "  '1671062400': 1,\n",
       "  '1671408000': 1,\n",
       "  '1672876800': 6,\n",
       "  '1672963200': 9,\n",
       "  '1673049600': 8,\n",
       "  '1673136000': 7,\n",
       "  '1673222400': 5,\n",
       "  '1673308800': 8,\n",
       "  '1673395200': 5,\n",
       "  '1673481600': 12,\n",
       "  '1673568000': 1,\n",
       "  '1673827200': 3,\n",
       "  '1673913600': 2,\n",
       "  '1674000000': 6,\n",
       "  '1674086400': 2,\n",
       "  '1674345600': 1,\n",
       "  '1674432000': 8,\n",
       "  '1674518400': 6,\n",
       "  '1674604800': 3,\n",
       "  '1674691200': 1,\n",
       "  '1674777600': 2,\n",
       "  '1674950400': 3,\n",
       "  '1675036800': 3,\n",
       "  '1675123200': 8,\n",
       "  '1675209600': 1,\n",
       "  '1675382400': 2,\n",
       "  '1675468800': 6,\n",
       "  '1675555200': 1,\n",
       "  '1675641600': 2,\n",
       "  '1675728000': 8,\n",
       "  '1675814400': 2,\n",
       "  '1675987200': 2,\n",
       "  '1676073600': 4,\n",
       "  '1676160000': 2,\n",
       "  '1676246400': 7,\n",
       "  '1676332800': 3,\n",
       "  '1676592000': 3,\n",
       "  '1676678400': 13,\n",
       "  '1676764800': 3,\n",
       "  '1676851200': 2,\n",
       "  '1677888000': 2,\n",
       "  '1678060800': 3,\n",
       "  '1679097600': 5,\n",
       "  '1679184000': 3,\n",
       "  '1679270400': 9,\n",
       "  '1679356800': 7,\n",
       "  '1679443200': 2,\n",
       "  '1679529600': 5,\n",
       "  '1679616000': 3,\n",
       "  '1679702400': 2}}"
      ]
     },
     "execution_count": 112,
     "metadata": {},
     "output_type": "execute_result"
    }
   ],
   "source": [
    "data"
   ]
  },
  {
   "cell_type": "code",
   "execution_count": 221,
   "id": "9b5428e8",
   "metadata": {},
   "outputs": [
    {
     "name": "stderr",
     "output_type": "stream",
     "text": [
      "C:\\Users\\admin\\AppData\\Local\\Temp\\ipykernel_19332\\2256191554.py:6: FutureWarning: save is not part of the public API, usage can give unexpected results and will be removed in a future version\n",
      "  writer.save()\n"
     ]
    }
   ],
   "source": [
    "sheets = ['Sheet1']\n",
    "finalfile = 'final.xlsx'\n",
    "writer = pd.ExcelWriter(finalfile)\n",
    "for sheet in sheets:\n",
    "    datafr.to_excel(writer,sheet)\n",
    "writer.save()"
   ]
  },
  {
   "cell_type": "code",
   "execution_count": null,
   "id": "10972d61",
   "metadata": {},
   "outputs": [],
   "source": []
  }
 ],
 "metadata": {
  "kernelspec": {
   "display_name": "Python 3 (ipykernel)",
   "language": "python",
   "name": "python3"
  },
  "language_info": {
   "codemirror_mode": {
    "name": "ipython",
    "version": 3
   },
   "file_extension": ".py",
   "mimetype": "text/x-python",
   "name": "python",
   "nbconvert_exporter": "python",
   "pygments_lexer": "ipython3",
   "version": "3.10.2"
  }
 },
 "nbformat": 4,
 "nbformat_minor": 5
}

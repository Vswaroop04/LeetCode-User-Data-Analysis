{
 "cells": [
  {
   "cell_type": "code",
   "execution_count": 5,
   "metadata": {},
   "outputs": [],
   "source": [
    "import requests as rq\n",
    "from bs4 import BeautifulSoup as bs \n",
    "import pandas as pd\n",
    "df=pd.read_csv(r\"D://Clg/SEM6/CS312/Project/Input/leetcode_indian_userrating.csv\")\n",
    "users=df[\"username\"].values"
   ]
  },
  {
   "cell_type": "code",
   "execution_count": 7,
   "metadata": {},
   "outputs": [
    {
     "name": "stdout",
     "output_type": "stream",
     "text": [
      "['aryanc403', 'aryanc403', '0', '0', '0', '0', '3,158,957', '0', '0', 'https://leetcode.com/aryanc403/']\n",
      "0\n",
      "['ap1008', 'Pratyush Baweja', '549', '198', '277', '74', '47,963', '1', '0', 'https://leetcode.com/ap1008/']\n",
      "1\n",
      "['LosingNowLosingLate', 'Pratyush Baweja', '574', '120', '400', '54', '42,543', '3', '14', 'https://leetcode.com/LosingNowLosingLate/']\n",
      "2\n",
      "['taran_1407', 'taran_1407', '881', '201', '500', '180', '10,481', '8', '37', 'https://leetcode.com/taran_1407/']\n",
      "3\n",
      "['anil9717', 'Anil Bera', '429', '133', '210', '86', '86,320', '3', '304', 'https://leetcode.com/anil9717/']\n",
      "4\n"
     ]
    }
   ],
   "source": [
    "li=[]\n",
    "i=0\n",
    "url=\"https://leetcode.com\"\n",
    "for username in users[0:5]:\n",
    "    a=rq.get(\"https://leetcode.com/\"+username+\"/\")\n",
    "    if(a.status_code==200):\n",
    "        data=bs(a.text,\"html.parser\")\n",
    "        \n",
    "        name=data.find(class_=\"text-label-1 dark:text-dark-label-1 break-all text-base font-semibold\").string\n",
    "        # country=data.find(class_=\"overflow-hidden\").get_text()\n",
    "        tot=data.find(class_=\"text-[24px] font-medium text-label-1 dark:text-dark-label-1\").string\n",
    "        l=data.find_all(class_=\"mr-[5px] text-base font-medium leading-[20px] text-label-1 dark:text-dark-label-1\")\n",
    "        easy=l[0].string\n",
    "        med= l[1].string\n",
    "        hard=l[2].string\n",
    "        last_year_submissions=data.find(class_=\"mr-[5px] text-base font-medium lc-md:text-xl\").string\n",
    "        rank=data.find(class_=\"ttext-label-1 dark:text-dark-label-1 font-medium\").string\n",
    "        badges=data.find(class_=\"text-label-1 dark:text-dark-label-1 mt-1.5 text-2xl leading-[18px]\").string\n",
    "        link=a.url\n",
    "        li.append([username,name,tot,easy,med,hard,rank,badges,last_year_submissions,link])\n",
    "        print([username,name,tot,easy,med,hard,rank,badges,last_year_submissions,link])\n",
    "    print(i)\n",
    "    i=i+1"
   ]
  },
  {
   "cell_type": "code",
   "execution_count": 9,
   "metadata": {},
   "outputs": [
    {
     "data": {
      "text/html": [
       "<div>\n",
       "<style scoped>\n",
       "    .dataframe tbody tr th:only-of-type {\n",
       "        vertical-align: middle;\n",
       "    }\n",
       "\n",
       "    .dataframe tbody tr th {\n",
       "        vertical-align: top;\n",
       "    }\n",
       "\n",
       "    .dataframe thead th {\n",
       "        text-align: right;\n",
       "    }\n",
       "</style>\n",
       "<table border=\"1\" class=\"dataframe\">\n",
       "  <thead>\n",
       "    <tr style=\"text-align: right;\">\n",
       "      <th></th>\n",
       "      <th>username</th>\n",
       "      <th>name</th>\n",
       "      <th>total</th>\n",
       "      <th>easy</th>\n",
       "      <th>medium</th>\n",
       "      <th>hard</th>\n",
       "      <th>rank</th>\n",
       "      <th>badges</th>\n",
       "      <th>last_year_submissions</th>\n",
       "      <th>link</th>\n",
       "    </tr>\n",
       "  </thead>\n",
       "  <tbody>\n",
       "    <tr>\n",
       "      <th>0</th>\n",
       "      <td>aryanc403</td>\n",
       "      <td>aryanc403</td>\n",
       "      <td>0</td>\n",
       "      <td>0</td>\n",
       "      <td>0</td>\n",
       "      <td>0</td>\n",
       "      <td>3,158,957</td>\n",
       "      <td>0</td>\n",
       "      <td>0</td>\n",
       "      <td>https://leetcode.com/aryanc403/</td>\n",
       "    </tr>\n",
       "    <tr>\n",
       "      <th>1</th>\n",
       "      <td>ap1008</td>\n",
       "      <td>Pratyush Baweja</td>\n",
       "      <td>549</td>\n",
       "      <td>198</td>\n",
       "      <td>277</td>\n",
       "      <td>74</td>\n",
       "      <td>47,963</td>\n",
       "      <td>1</td>\n",
       "      <td>0</td>\n",
       "      <td>https://leetcode.com/ap1008/</td>\n",
       "    </tr>\n",
       "    <tr>\n",
       "      <th>2</th>\n",
       "      <td>LosingNowLosingLate</td>\n",
       "      <td>Pratyush Baweja</td>\n",
       "      <td>574</td>\n",
       "      <td>120</td>\n",
       "      <td>400</td>\n",
       "      <td>54</td>\n",
       "      <td>42,543</td>\n",
       "      <td>3</td>\n",
       "      <td>14</td>\n",
       "      <td>https://leetcode.com/LosingNowLosingLate/</td>\n",
       "    </tr>\n",
       "    <tr>\n",
       "      <th>3</th>\n",
       "      <td>taran_1407</td>\n",
       "      <td>taran_1407</td>\n",
       "      <td>881</td>\n",
       "      <td>201</td>\n",
       "      <td>500</td>\n",
       "      <td>180</td>\n",
       "      <td>10,481</td>\n",
       "      <td>8</td>\n",
       "      <td>37</td>\n",
       "      <td>https://leetcode.com/taran_1407/</td>\n",
       "    </tr>\n",
       "    <tr>\n",
       "      <th>4</th>\n",
       "      <td>anil9717</td>\n",
       "      <td>Anil Bera</td>\n",
       "      <td>429</td>\n",
       "      <td>133</td>\n",
       "      <td>210</td>\n",
       "      <td>86</td>\n",
       "      <td>86,320</td>\n",
       "      <td>3</td>\n",
       "      <td>304</td>\n",
       "      <td>https://leetcode.com/anil9717/</td>\n",
       "    </tr>\n",
       "  </tbody>\n",
       "</table>\n",
       "</div>"
      ],
      "text/plain": [
       "              username             name total easy medium hard       rank  \\\n",
       "0            aryanc403        aryanc403     0    0      0    0  3,158,957   \n",
       "1               ap1008  Pratyush Baweja   549  198    277   74     47,963   \n",
       "2  LosingNowLosingLate  Pratyush Baweja   574  120    400   54     42,543   \n",
       "3           taran_1407       taran_1407   881  201    500  180     10,481   \n",
       "4             anil9717        Anil Bera   429  133    210   86     86,320   \n",
       "\n",
       "  badges last_year_submissions                                       link  \n",
       "0      0                     0            https://leetcode.com/aryanc403/  \n",
       "1      1                     0               https://leetcode.com/ap1008/  \n",
       "2      3                    14  https://leetcode.com/LosingNowLosingLate/  \n",
       "3      8                    37           https://leetcode.com/taran_1407/  \n",
       "4      3                   304             https://leetcode.com/anil9717/  "
      ]
     },
     "execution_count": 9,
     "metadata": {},
     "output_type": "execute_result"
    }
   ],
   "source": [
    "abc=pd.DataFrame(li,columns=[\"username\",\"name\",\"total\",\"easy\",\"medium\",\"hard\",\"rank\",\"badges\",\"last_year_submissions\",\"link\"])\n",
    "abc"
   ]
  },
  {
   "cell_type": "code",
   "execution_count": 10,
   "metadata": {},
   "outputs": [],
   "source": [
    "abc.to_csv(\"leetcode.csv\")"
   ]
  },
  {
   "cell_type": "code",
   "execution_count": null,
   "metadata": {},
   "outputs": [],
   "source": []
  }
 ],
 "metadata": {
  "kernelspec": {
   "display_name": "MyEnv",
   "language": "python",
   "name": "python3"
  },
  "language_info": {
   "codemirror_mode": {
    "name": "ipython",
    "version": 3
   },
   "file_extension": ".py",
   "mimetype": "text/x-python",
   "name": "python",
   "nbconvert_exporter": "python",
   "pygments_lexer": "ipython3",
   "version": "3.9.16"
  },
  "orig_nbformat": 4
 },
 "nbformat": 4,
 "nbformat_minor": 2
}
